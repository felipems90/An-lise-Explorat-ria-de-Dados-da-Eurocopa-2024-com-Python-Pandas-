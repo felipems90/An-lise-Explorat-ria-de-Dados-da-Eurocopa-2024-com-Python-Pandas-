{
 "cells": [
  {
   "cell_type": "code",
   "execution_count": 9,
   "id": "307fcd6c-a71c-401f-a83a-4804065d54f1",
   "metadata": {},
   "outputs": [],
   "source": [
    "import pandas as pd\n",
    "import matplotlib.pyplot as plt\n",
    "import seaborn as sns \n",
    "df = pd.read_csv(\"uefa_euro_2024.csv\")"
   ]
  },
  {
   "cell_type": "code",
   "execution_count": 47,
   "id": "20690020-1976-414c-872e-9856d14e49fd",
   "metadata": {},
   "outputs": [
    {
     "data": {
      "text/html": [
       "<div>\n",
       "<style scoped>\n",
       "    .dataframe tbody tr th:only-of-type {\n",
       "        vertical-align: middle;\n",
       "    }\n",
       "\n",
       "    .dataframe tbody tr th {\n",
       "        vertical-align: top;\n",
       "    }\n",
       "\n",
       "    .dataframe thead th {\n",
       "        text-align: right;\n",
       "    }\n",
       "</style>\n",
       "<table border=\"1\" class=\"dataframe\">\n",
       "  <thead>\n",
       "    <tr style=\"text-align: right;\">\n",
       "      <th></th>\n",
       "      <th>FIFA Ranking</th>\n",
       "      <th>Team</th>\n",
       "      <th>Total Points</th>\n",
       "      <th>Previous Points</th>\n",
       "      <th>Change in Points</th>\n",
       "      <th>Base Camp</th>\n",
       "      <th>Training Ground</th>\n",
       "      <th>Qualified as</th>\n",
       "      <th>Previous appearances</th>\n",
       "      <th>Manager Name</th>\n",
       "      <th>Installation (in years)</th>\n",
       "      <th>Group</th>\n",
       "      <th>Average Age</th>\n",
       "      <th>Captain</th>\n",
       "      <th>Recent Form</th>\n",
       "    </tr>\n",
       "  </thead>\n",
       "  <tbody>\n",
       "    <tr>\n",
       "      <th>0</th>\n",
       "      <td>2</td>\n",
       "      <td>France</td>\n",
       "      <td>1837.47</td>\n",
       "      <td>1840.59</td>\n",
       "      <td>-3.12</td>\n",
       "      <td>Bad Lippspringe</td>\n",
       "      <td>Home Deluxe Arena</td>\n",
       "      <td>Group B winner</td>\n",
       "      <td>10</td>\n",
       "      <td>Didier Deschamps</td>\n",
       "      <td>11</td>\n",
       "      <td>Group D</td>\n",
       "      <td>26.9</td>\n",
       "      <td>Kylian Mbappe</td>\n",
       "      <td>W-L-W-W-W-D-L-W-W-D</td>\n",
       "    </tr>\n",
       "    <tr>\n",
       "      <th>1</th>\n",
       "      <td>3</td>\n",
       "      <td>Belgium</td>\n",
       "      <td>1797.98</td>\n",
       "      <td>1795.23</td>\n",
       "      <td>2.75</td>\n",
       "      <td>Ludwigsburg</td>\n",
       "      <td>Wasenstadion, SGV Freiberg am Neckar</td>\n",
       "      <td>Group F winner</td>\n",
       "      <td>6</td>\n",
       "      <td>Domenico Tedesco</td>\n",
       "      <td>1</td>\n",
       "      <td>Group E</td>\n",
       "      <td>26.9</td>\n",
       "      <td>Kevin De Bruyne</td>\n",
       "      <td>W-W-W-D-W-W-D-D-W-W</td>\n",
       "    </tr>\n",
       "    <tr>\n",
       "      <th>2</th>\n",
       "      <td>5</td>\n",
       "      <td>England</td>\n",
       "      <td>1787.88</td>\n",
       "      <td>1794.90</td>\n",
       "      <td>-7.02</td>\n",
       "      <td>Blankenhain</td>\n",
       "      <td>Golfresort Weimarer Land</td>\n",
       "      <td>Group C winner</td>\n",
       "      <td>10</td>\n",
       "      <td>Gareth Southgate</td>\n",
       "      <td>7</td>\n",
       "      <td>Group C</td>\n",
       "      <td>26.1</td>\n",
       "      <td>Harry Kane</td>\n",
       "      <td>D-W-W-W-W-D-L-D-W-L</td>\n",
       "    </tr>\n",
       "    <tr>\n",
       "      <th>3</th>\n",
       "      <td>6</td>\n",
       "      <td>Portugal</td>\n",
       "      <td>1747.04</td>\n",
       "      <td>1748.11</td>\n",
       "      <td>-1.07</td>\n",
       "      <td>Harsewinkel</td>\n",
       "      <td>Hotel-Residence Klosterpforte Marienfeld / Spo...</td>\n",
       "      <td>Group J winner</td>\n",
       "      <td>8</td>\n",
       "      <td>Roberto Martínez</td>\n",
       "      <td>1</td>\n",
       "      <td>Group F</td>\n",
       "      <td>27.0</td>\n",
       "      <td>Cristiano Ronaldo</td>\n",
       "      <td>W-W-W-W-W-W-L-W-L-W</td>\n",
       "    </tr>\n",
       "    <tr>\n",
       "      <th>4</th>\n",
       "      <td>7</td>\n",
       "      <td>Netherlands</td>\n",
       "      <td>1746.66</td>\n",
       "      <td>1742.29</td>\n",
       "      <td>4.37</td>\n",
       "      <td>Wolfsburg</td>\n",
       "      <td>AOK Stadion</td>\n",
       "      <td>Group B runner-up</td>\n",
       "      <td>10</td>\n",
       "      <td>Ronald Koeman</td>\n",
       "      <td>1</td>\n",
       "      <td>Group D</td>\n",
       "      <td>26.3</td>\n",
       "      <td>Virgil van Dijk</td>\n",
       "      <td>W-W-L-W-W-W-W-L-W-W</td>\n",
       "    </tr>\n",
       "  </tbody>\n",
       "</table>\n",
       "</div>"
      ],
      "text/plain": [
       "   FIFA Ranking         Team  Total Points  Previous Points  Change in Points  \\\n",
       "0             2       France       1837.47          1840.59             -3.12   \n",
       "1             3      Belgium       1797.98          1795.23              2.75   \n",
       "2             5      England       1787.88          1794.90             -7.02   \n",
       "3             6     Portugal       1747.04          1748.11             -1.07   \n",
       "4             7  Netherlands       1746.66          1742.29              4.37   \n",
       "\n",
       "         Base Camp                                    Training Ground  \\\n",
       "0  Bad Lippspringe                                  Home Deluxe Arena   \n",
       "1      Ludwigsburg               Wasenstadion, SGV Freiberg am Neckar   \n",
       "2      Blankenhain                           Golfresort Weimarer Land   \n",
       "3      Harsewinkel  Hotel-Residence Klosterpforte Marienfeld / Spo...   \n",
       "4        Wolfsburg                                        AOK Stadion   \n",
       "\n",
       "        Qualified as  Previous appearances      Manager Name  \\\n",
       "0     Group B winner                    10  Didier Deschamps   \n",
       "1     Group F winner                     6  Domenico Tedesco   \n",
       "2     Group C winner                    10  Gareth Southgate   \n",
       "3     Group J winner                     8  Roberto Martínez   \n",
       "4  Group B runner-up                    10     Ronald Koeman   \n",
       "\n",
       "   Installation (in years)    Group  Average Age            Captain  \\\n",
       "0                       11  Group D         26.9      Kylian Mbappe   \n",
       "1                        1  Group E         26.9    Kevin De Bruyne   \n",
       "2                        7  Group C         26.1         Harry Kane   \n",
       "3                        1  Group F         27.0  Cristiano Ronaldo   \n",
       "4                        1  Group D         26.3    Virgil van Dijk   \n",
       "\n",
       "           Recent Form  \n",
       "0  W-L-W-W-W-D-L-W-W-D  \n",
       "1  W-W-W-D-W-W-D-D-W-W  \n",
       "2  D-W-W-W-W-D-L-D-W-L  \n",
       "3  W-W-W-W-W-W-L-W-L-W  \n",
       "4  W-W-L-W-W-W-W-L-W-W  "
      ]
     },
     "execution_count": 47,
     "metadata": {},
     "output_type": "execute_result"
    }
   ],
   "source": [
    "df.head()"
   ]
  },
  {
   "cell_type": "code",
   "execution_count": 49,
   "id": "38283a2c-30ce-46c2-ab2a-467e750384ce",
   "metadata": {},
   "outputs": [
    {
     "name": "stdout",
     "output_type": "stream",
     "text": [
      "<class 'pandas.core.frame.DataFrame'>\n",
      "RangeIndex: 24 entries, 0 to 23\n",
      "Data columns (total 15 columns):\n",
      " #   Column                   Non-Null Count  Dtype  \n",
      "---  ------                   --------------  -----  \n",
      " 0   FIFA Ranking             24 non-null     int64  \n",
      " 1   Team                     24 non-null     object \n",
      " 2   Total Points             24 non-null     float64\n",
      " 3   Previous Points          24 non-null     float64\n",
      " 4   Change in Points         24 non-null     float64\n",
      " 5   Base Camp                24 non-null     object \n",
      " 6   Training Ground          24 non-null     object \n",
      " 7   Qualified as             24 non-null     object \n",
      " 8   Previous appearances     24 non-null     int64  \n",
      " 9   Manager Name             24 non-null     object \n",
      " 10  Installation (in years)  24 non-null     int64  \n",
      " 11  Group                    24 non-null     object \n",
      " 12  Average Age              24 non-null     float64\n",
      " 13  Captain                  24 non-null     object \n",
      " 14  Recent Form              24 non-null     object \n",
      "dtypes: float64(4), int64(3), object(8)\n",
      "memory usage: 2.9+ KB\n"
     ]
    }
   ],
   "source": [
    "df.info()"
   ]
  },
  {
   "cell_type": "code",
   "execution_count": 19,
   "id": "d0307527-3e77-407d-9321-05e179707be8",
   "metadata": {},
   "outputs": [
    {
     "data": {
      "text/html": [
       "<div>\n",
       "<style scoped>\n",
       "    .dataframe tbody tr th:only-of-type {\n",
       "        vertical-align: middle;\n",
       "    }\n",
       "\n",
       "    .dataframe tbody tr th {\n",
       "        vertical-align: top;\n",
       "    }\n",
       "\n",
       "    .dataframe thead th {\n",
       "        text-align: right;\n",
       "    }\n",
       "</style>\n",
       "<table border=\"1\" class=\"dataframe\">\n",
       "  <thead>\n",
       "    <tr style=\"text-align: right;\">\n",
       "      <th></th>\n",
       "      <th>FIFA Ranking</th>\n",
       "      <th>Total Points</th>\n",
       "      <th>Previous Points</th>\n",
       "      <th>Change in Points</th>\n",
       "      <th>Previous appearances</th>\n",
       "      <th>Installation (in years)</th>\n",
       "      <th>Average Age</th>\n",
       "    </tr>\n",
       "  </thead>\n",
       "  <tbody>\n",
       "    <tr>\n",
       "      <th>count</th>\n",
       "      <td>24.000000</td>\n",
       "      <td>24.000000</td>\n",
       "      <td>24.000000</td>\n",
       "      <td>24.000000</td>\n",
       "      <td>24.000000</td>\n",
       "      <td>24.000000</td>\n",
       "      <td>24.000000</td>\n",
       "    </tr>\n",
       "    <tr>\n",
       "      <th>mean</th>\n",
       "      <td>26.833333</td>\n",
       "      <td>1594.167083</td>\n",
       "      <td>1592.522083</td>\n",
       "      <td>1.645000</td>\n",
       "      <td>6.125000</td>\n",
       "      <td>2.583333</td>\n",
       "      <td>27.079167</td>\n",
       "    </tr>\n",
       "    <tr>\n",
       "      <th>std</th>\n",
       "      <td>20.356959</td>\n",
       "      <td>140.824052</td>\n",
       "      <td>141.706480</td>\n",
       "      <td>4.432722</td>\n",
       "      <td>3.566907</td>\n",
       "      <td>2.780627</td>\n",
       "      <td>0.743657</td>\n",
       "    </tr>\n",
       "    <tr>\n",
       "      <th>min</th>\n",
       "      <td>2.000000</td>\n",
       "      <td>1338.910000</td>\n",
       "      <td>1333.760000</td>\n",
       "      <td>-7.020000</td>\n",
       "      <td>0.000000</td>\n",
       "      <td>0.000000</td>\n",
       "      <td>25.500000</td>\n",
       "    </tr>\n",
       "    <tr>\n",
       "      <th>25%</th>\n",
       "      <td>8.750000</td>\n",
       "      <td>1496.230000</td>\n",
       "      <td>1497.080000</td>\n",
       "      <td>-1.442500</td>\n",
       "      <td>3.750000</td>\n",
       "      <td>1.000000</td>\n",
       "      <td>26.725000</td>\n",
       "    </tr>\n",
       "    <tr>\n",
       "      <th>50%</th>\n",
       "      <td>24.500000</td>\n",
       "      <td>1562.700000</td>\n",
       "      <td>1561.860000</td>\n",
       "      <td>2.160000</td>\n",
       "      <td>5.000000</td>\n",
       "      <td>1.500000</td>\n",
       "      <td>27.100000</td>\n",
       "    </tr>\n",
       "    <tr>\n",
       "      <th>75%</th>\n",
       "      <td>39.750000</td>\n",
       "      <td>1728.705000</td>\n",
       "      <td>1725.325000</td>\n",
       "      <td>4.857500</td>\n",
       "      <td>10.000000</td>\n",
       "      <td>3.500000</td>\n",
       "      <td>27.550000</td>\n",
       "    </tr>\n",
       "    <tr>\n",
       "      <th>max</th>\n",
       "      <td>74.000000</td>\n",
       "      <td>1837.470000</td>\n",
       "      <td>1840.590000</td>\n",
       "      <td>10.000000</td>\n",
       "      <td>13.000000</td>\n",
       "      <td>11.000000</td>\n",
       "      <td>28.600000</td>\n",
       "    </tr>\n",
       "  </tbody>\n",
       "</table>\n",
       "</div>"
      ],
      "text/plain": [
       "       FIFA Ranking  Total Points  Previous Points  Change in Points  \\\n",
       "count     24.000000     24.000000        24.000000         24.000000   \n",
       "mean      26.833333   1594.167083      1592.522083          1.645000   \n",
       "std       20.356959    140.824052       141.706480          4.432722   \n",
       "min        2.000000   1338.910000      1333.760000         -7.020000   \n",
       "25%        8.750000   1496.230000      1497.080000         -1.442500   \n",
       "50%       24.500000   1562.700000      1561.860000          2.160000   \n",
       "75%       39.750000   1728.705000      1725.325000          4.857500   \n",
       "max       74.000000   1837.470000      1840.590000         10.000000   \n",
       "\n",
       "       Previous appearances  Installation (in years)  Average Age  \n",
       "count             24.000000                24.000000    24.000000  \n",
       "mean               6.125000                 2.583333    27.079167  \n",
       "std                3.566907                 2.780627     0.743657  \n",
       "min                0.000000                 0.000000    25.500000  \n",
       "25%                3.750000                 1.000000    26.725000  \n",
       "50%                5.000000                 1.500000    27.100000  \n",
       "75%               10.000000                 3.500000    27.550000  \n",
       "max               13.000000                11.000000    28.600000  "
      ]
     },
     "execution_count": 19,
     "metadata": {},
     "output_type": "execute_result"
    }
   ],
   "source": [
    "df.describe()"
   ]
  },
  {
   "cell_type": "markdown",
   "id": "9b0ddeb2-9968-4c9c-ac5d-034e9ea96d71",
   "metadata": {},
   "source": [
    "Quais são as equipes com os 5 maiores e os 5 menores Rankings FIFA?"
   ]
  },
  {
   "cell_type": "code",
   "execution_count": 29,
   "id": "420f5456-2dd4-494e-a7a4-dd003eea5d2c",
   "metadata": {},
   "outputs": [
    {
     "name": "stdout",
     "output_type": "stream",
     "text": [
      "Top 5 Equipes por Ranking FIFA:\n",
      "          Team  FIFA Ranking\n",
      "0       France             2\n",
      "1      Belgium             3\n",
      "2      England             5\n",
      "3     Portugal             6\n",
      "4  Netherlands             7\n",
      "\n",
      "As 5 equipes com menor Ranking FIFA:\n",
      "        Team  FIFA Ranking\n",
      "19  Slovakia            45\n",
      "20   Romania            47\n",
      "21  Slovenia            57\n",
      "22   Albania            66\n",
      "23   Georgia            74\n"
     ]
    }
   ],
   "source": [
    "# Ordenando o DataFrame pelo Ranking FIFA (do maior para o menor)\n",
    "df_ordenado = df.sort_values(by='FIFA Ranking')\n",
    "\n",
    "# Pegando as 5 equipes com maiores rankings\n",
    "top_5_ranking = df_ordenado.head(5)\n",
    "\n",
    "# Pegando as 5 equipes com menores rankings \n",
    "# (usando tail() para pegar do final da lista ordenada)\n",
    "menores_ranking_5 = df_ordenado.tail(5)\n",
    "print(\"Top 5 Equipes por Ranking FIFA:\")\n",
    "print(top_5_ranking[['Team', 'FIFA Ranking']]) \n",
    "\n",
    "print(\"\\nAs 5 equipes com menor Ranking FIFA:\")\n",
    "print(menores_ranking_5[['Team', 'FIFA Ranking']])"
   ]
  },
  {
   "cell_type": "markdown",
   "id": "c12a0a7e-cbcb-4a70-96c3-bc4a39691eef",
   "metadata": {},
   "source": [
    "Qual a média de idade das equipes? Essa média varia muito entre os grupos?"
   ]
  },
  {
   "cell_type": "code",
   "execution_count": 35,
   "id": "ab59fc00-1083-4878-aa2c-a1618a164c6b",
   "metadata": {},
   "outputs": [
    {
     "name": "stdout",
     "output_type": "stream",
     "text": [
      "Média de Idade Geral das Equipes: 27.08 anos\n",
      "\n",
      "Média de Idade por Grupo:\n",
      "Group\n",
      "Group A    28.025\n",
      "Group B    27.125\n",
      "Group C    27.125\n",
      "Group D    26.950\n",
      "Group E    26.875\n",
      "Group F    26.375\n",
      "Name: Average Age, dtype: float64\n"
     ]
    },
    {
     "data": {
      "image/png": "[encoded data removed]",
      "text/plain": [
       "<Figure size 1000x800 with 1 Axes>"
      ]
     },
     "metadata": {},
     "output_type": "display_data"
    },
    {
     "name": "stdout",
     "output_type": "stream",
     "text": [
      "Média de Idade por Equipe:\n",
      "Team\n",
      "Albania        27.3\n",
      "Austria        26.8\n",
      "Belgium        26.9\n",
      "Croatia        27.7\n",
      "Czechia        25.5\n",
      "Denmark        27.7\n",
      "England        26.1\n",
      "France         26.9\n",
      "Georgia        27.2\n",
      "Germany        28.6\n",
      "Hungary        27.5\n",
      "Italy          26.5\n",
      "Netherlands    26.3\n",
      "Poland         27.8\n",
      "Portugal       27.0\n",
      "Romania        27.0\n",
      "Scotland       28.3\n",
      "Serbia         27.4\n",
      "Slovakia       27.3\n",
      "Slovenia       27.3\n",
      "Spain          27.0\n",
      "Switzerland    27.7\n",
      "Türkiye        25.8\n",
      "Ukraine        26.3\n",
      "Name: Average Age, dtype: float64\n"
     ]
    }
   ],
   "source": [
    "# Calculando a média de idade geral\n",
    "media_idade_geral = df['Average Age'].mean()\n",
    "print(f\"Média de Idade Geral das Equipes: {media_idade_geral:.2f} anos\")\n",
    "\n",
    "# Calculando a média de idade por grupo\n",
    "media_idade_por_grupo = df.groupby('Group')['Average Age'].mean()\n",
    "print(\"\\nMédia de Idade por Grupo:\")\n",
    "print(media_idade_por_grupo)\n",
    "\n",
    "# Visualizando a variação entre os grupos com um gráfico de barras\n",
    "media_idade_por_grupo.plot(kind='bar', figsize=(10, 8))\n",
    "plt.title(\"Média de Idade das Equipes por Grupo\")\n",
    "plt.xlabel(\"Grupo\")\n",
    "plt.ylabel(\"Média de Idade\")\n",
    "plt.show()\n",
    "\n",
    "# Calculando a média de idade por equipe\n",
    "media_idade_por_equipe = df.groupby('Team')['Average Age'].mean()\n",
    "\n",
    "# Exibindo os resultados\n",
    "print(\"Média de Idade por Equipe:\")\n",
    "print(media_idade_por_equipe)"
   ]
  },
  {
   "cell_type": "markdown",
   "id": "fcd2d204-d4bc-4343-abb9-77b20aa17515",
   "metadata": {},
   "source": [
    "Existe alguma relação aparente entre o tempo de contratação do treinador e o número de pontos da equipe?"
   ]
  },
  {
   "cell_type": "code",
   "execution_count": 53,
   "id": "261e5452-3adc-405a-a705-bbd11e25c3f9",
   "metadata": {},
   "outputs": [
    {
     "name": "stdout",
     "output_type": "stream",
     "text": [
      "5 Treinadores com Mais Tempo de Contratação:\n",
      "    Team     Manager Name  Installation (in years)\n",
      "  France Didier Deschamps                       11\n",
      " England Gareth Southgate                        7\n",
      " Croatia     Zlatko Dalic                        6\n",
      " Hungary      Marco Rossi                        6\n",
      "Slovenia       Matjaz Kek                        5\n",
      "\n",
      "5 Treinadores com Menos Tempo de Contratação:\n",
      "   Team      Manager Name  Installation (in years)\n",
      "Germany Julian Nagelsmann                        0\n",
      " Poland   Michal Probierz                        0\n",
      "  Italy Luciano Spalletti                        0\n",
      "Czechia        Ivan Hasek                        0\n",
      "Türkiye Vincenzo Montella                        0\n"
     ]
    }
   ],
   "source": [
    "# Ordenando o DataFrame pelo tempo de contratação do treinador (do maior para o menor)\n",
    "df_ordenado = df.sort_values(by='Installation (in years)', ascending=False)\n",
    "\n",
    "# Selecionando os 5 treinadores com mais tempo de contrato treinador\n",
    "top_5_treinadores = df_ordenado.head(5)[['Team', 'Manager Name', 'Installation (in years)']]\n",
    "\n",
    "# Selecionando os 5 treinadores com menos tempo de contrato treinador\n",
    "menos_tempo_5_treinadores = df_ordenado.tail(5)[['Team', 'Manager Name', 'Installation (in years)']]\n",
    "\n",
    "# Exibindo os resultados\n",
    "print(\"5 Treinadores com Mais Tempo de Contratação:\")\n",
    "print(top_5_treinadores.to_string(index=False))  \n",
    "\n",
    "print(\"\\n5 Treinadores com Menos Tempo de Contratação:\")\n",
    "print(menos_tempo_5_treinadores.to_string(index=False))  "
   ]
  },
  {
   "cell_type": "code",
   "execution_count": 45,
   "id": "89c1895a-380a-4b55-9789-5b2084a56939",
   "metadata": {},
   "outputs": [
    {
     "data": {
      "image/png": "[encoded data removed]",
      "text/plain": [
       "<Figure size 1000x600 with 1 Axes>"
      ]
     },
     "metadata": {},
     "output_type": "display_data"
    }
   ],
   "source": [
    "# Criando o gráfico de dispersão\n",
    "plt.figure(figsize=(10, 6)) \n",
    "sns.scatterplot(data=df, x=\"Installation (in years)\", y=\"Total Points\")\n",
    "plt.title(\"Relação entre Tempo de contratação do Treinador e Pontos da Equipe\")\n",
    "plt.xlabel(\"Tempo de Instalação do Treinador (anos)\")\n",
    "plt.ylabel(\"Total de Pontos\")\n",
    "plt.show()"
   ]
  },
  {
   "cell_type": "markdown",
   "id": "d622dd71-d382-4ba0-a813-30daec4e5aad",
   "metadata": {},
   "source": [
    "Aqui temos uma correlação positiva fraca:"
   ]
  },
  {
   "cell_type": "code",
   "execution_count": 57,
   "id": "78e38f98-ea5c-4d63-95b4-6b9e16959b65",
   "metadata": {},
   "outputs": [
    {
     "data": {
      "image/png": "[encoded data removed]",
      "text/plain": [
       "<Figure size 1000x600 with 1 Axes>"
      ]
     },
     "metadata": {},
     "output_type": "display_data"
    },
    {
     "name": "stdout",
     "output_type": "stream",
     "text": [
      "Coeficiente de Correlação de Pearson: 0.24\n"
     ]
    }
   ],
   "source": [
    "# Criando o gráfico de dispersão\n",
    "plt.figure(figsize=(10, 6))\n",
    "sns.scatterplot(data=df, x=\"Installation (in years)\", y=\"Total Points\")\n",
    "plt.title(\"Relação entre Tempo de Contratação do Treinador e Pontos da Equipe\")\n",
    "plt.xlabel(\"Tempo de Contratação (anos)\")\n",
    "plt.ylabel(\"Total de Pontos\")\n",
    "plt.show()\n",
    "\n",
    "# Calculando o coeficiente de correlação de Pearson\n",
    "correlacao = df['Installation (in years)'].corr(df['Total Points'])\n",
    "print(f\"Coeficiente de Correlação de Pearson: {correlacao:.2f}\")"
   ]
  }
 ],
 "metadata": {
  "kernelspec": {
   "display_name": "Python 3 (ipykernel)",
   "language": "python",
   "name": "python3"
  },
  "language_info": {
   "codemirror_mode": {
    "name": "ipython",
    "version": 3
   },
   "file_extension": ".py",
   "mimetype": "text/x-python",
   "name": "python",
   "nbconvert_exporter": "python",
   "pygments_lexer": "ipython3",
   "version": "3.11.7"
  }
 },
 "nbformat": 4,
 "nbformat_minor": 5
}
